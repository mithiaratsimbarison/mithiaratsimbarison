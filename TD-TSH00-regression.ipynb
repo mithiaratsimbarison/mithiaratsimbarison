{
 "cells": [
  {
   "cell_type": "markdown",
   "id": "7ffc9bc2-66f0-4554-86f1-ad0fefb899bf",
   "metadata": {},
   "source": [
    "# The regression experiment\n",
    "\n",
    "## is the price correlated to distance to nearest station\n",
    "\n",
    "## for each meter away from subway station how does the price vary\n",
    "\n",
    "we start by importing the usual suspects"
   ]
  },
  {
   "cell_type": "code",
   "execution_count": null,
   "id": "463af8a5-a045-4ff5-ae8e-a47a18845e32",
   "metadata": {},
   "outputs": [],
   "source": [
    "# import data science libraries\n",
    "import pandas as pd\n",
    "import numpy as np\n",
    "\n",
    "# import advanced plot drawing library\n",
    "import seaborn as sns \n",
    "\n",
    "# import data science library with added geographic functions\n",
    "import geopandas as gpd\n",
    "\n",
    "# useful to calculate the Ordinary Least Square linear regression\n",
    "import statsmodels \n",
    "\n",
    "# useful to get fast distance calculation, \n",
    "# see https://scikit-learn.org/stable/modules/generated/sklearn.neighbors.BallTree.html\n",
    "from sklearn.neighbors import BallTree \n",
    "\n",
    "# useful to access functions like median, mean or std \n",
    "from scipy import stats \n",
    "\n",
    "# useful to get map background but hard to install...\n",
    "# If not available REMOVE this\n",
    "import contextily as cx\n",
    "\n",
    "sns.set_style(\"white\")"
   ]
  },
  {
   "cell_type": "markdown",
   "id": "05aaa1d6-4382-4fac-b80f-5334a29675d8",
   "metadata": {},
   "source": [
    "## 1 – Real Estate dataset: Anjuke\n",
    "\n",
    "This dataset has been created in UTSEUS in 2017. The souce page for it is (anjuke)[https://shanghai.anjuke.com/sale]\n",
    "\n",
    "This dataset is given to you as a (pickle)[https://docs.python.org/3/library/pickle.html] which can be used directly as a variable.\n",
    "The format is called pickle, it is like a zip but can only be read in python. "
   ]
  },
  {
   "cell_type": "code",
   "execution_count": null,
   "id": "8ae05368-7604-4eca-b1cb-dc3b0b3081ff",
   "metadata": {},
   "outputs": [],
   "source": [
    "# change path to your PATH. if the file can be seen on the left you can just put the file name directly\n",
    "real_estate_file = 'data/utseus-anjuke-real-estate.pk'\n",
    "anjuke = pd.read_pickle(real_estate_file)"
   ]
  },
  {
   "cell_type": "markdown",
   "id": "759b7bad-4843-4453-953c-bbd0a3904735",
   "metadata": {},
   "source": [
    "the pickle is just a list of list. The first item is the columns name, the rest is the data\n",
    "The dataframe need to have the data first, and the name of the columns separately. \n",
    "We use (list comprehension)[https://docs.python.org/3/tutorial/introduction.html#lists] to achieve this."
   ]
  },
  {
   "cell_type": "code",
   "execution_count": null,
   "id": "d37759e3-c06e-4e38-b1ca-7a12294d1ae3",
   "metadata": {},
   "outputs": [],
   "source": [
    "anjuke_df = pd.DataFrame(anjuke[1:],columns=anjuke[0], )"
   ]
  },
  {
   "cell_type": "markdown",
   "id": "7bf5fe62-2f12-4e0a-b427-344664ade545",
   "metadata": {},
   "source": [
    "Use .info or .describe functions to get a better idea of the dataset"
   ]
  },
  {
   "cell_type": "code",
   "execution_count": null,
   "id": "a34a65bb-70a9-4b40-9d0b-58da00f381af",
   "metadata": {},
   "outputs": [],
   "source": [
    " # the info reveal everything is object, there are no numbers"
   ]
  },
  {
   "cell_type": "markdown",
   "id": "f86f8e2f-bdca-4134-a38a-82b3f9389f1e",
   "metadata": {},
   "source": [
    "all of the field we see in the columns are object and have not been correctly imported as numbers. Consequently we cannot calculate with these columns as they are considered as words. We need numbers. To convert from words to numbers we use a special function from python. \n",
    "\n",
    "All numeric columns shall transformed into floats using pandas (to_numeric)[https://pandas.pydata.org/pandas-docs/stable/reference/api/pandas.to_numeric.html] function."
   ]
  },
  {
   "cell_type": "code",
   "execution_count": null,
   "id": "8f691895-9bcc-4199-9e88-1f55e544a537",
   "metadata": {},
   "outputs": [],
   "source": [
    "numeric_columns = ['longitude', 'latitude', 'bedroom', 'room', 'surface', 'price', 'onesquaremeter']\n",
    "\n",
    "# put the function in the following line\n",
    "anjuke_df[numeric_columns] = anjuke_df[numeric_columns].apply()"
   ]
  },
  {
   "cell_type": "markdown",
   "id": "d2cb35cc-0ab2-42e1-a24b-59b16b92cd3e",
   "metadata": {},
   "source": [
    "now we can have some numbers that could not be converted. the rows containing these undefined values need to be dropped. \n",
    "\n",
    "Do that using the function (dropna)[https://pandas.pydata.org/pandas-docs/stable/reference/api/pandas.DataFrame.dropna.html]"
   ]
  },
  {
   "cell_type": "code",
   "execution_count": null,
   "id": "2261d967-1c90-47d8-8a71-51ca557575a6",
   "metadata": {},
   "outputs": [],
   "source": [
    "anjuke_df = anjuke_df.dropna()"
   ]
  },
  {
   "cell_type": "markdown",
   "id": "078fa7e1-ebbe-4e68-8081-375a9693ae2d",
   "metadata": {},
   "source": [
    "check if the colums have been successfully changed.\n",
    "\n",
    "You should observe that we 'lost' 3962 records that were incomplete with a non numeric data\n",
    "\n",
    "use .info() again"
   ]
  },
  {
   "cell_type": "code",
   "execution_count": null,
   "id": "7dd70feb-6535-4018-88b7-57762a79b9ce",
   "metadata": {},
   "outputs": [],
   "source": [
    "# write the call to .info here"
   ]
  },
  {
   "cell_type": "markdown",
   "id": "f1ca48cc-f8b9-49e8-bf32-141a9d1e7abd",
   "metadata": {},
   "source": [
    "Time to tranform the dataset into a geodataframe now so we can perform geographic operations\n",
    "\n",
    "Right now we just have GPS has numbers in columns. This is not ready to be used on a map. For that we need to convert it into a geographic object that can be a point, a line or a polygon. In our case it is a point "
   ]
  },
  {
   "cell_type": "code",
   "execution_count": null,
   "id": "d31957ef-0a12-4ecc-998d-59d167c02c35",
   "metadata": {},
   "outputs": [],
   "source": [
    "anjuke_gdf = gpd.GeoDataFrame(\n",
    "        anjuke_df, \n",
    "        geometry=gpd.points_from_xy(anjuke_df.longitude, anjuke_df.latitude), crs=4326)"
   ]
  },
  {
   "cell_type": "markdown",
   "id": "9e224ae8-6385-416f-af51-1057bd64904f",
   "metadata": {},
   "source": [
    "plot the data on a map using the plot function with the following properties\n",
    "plot(markersize=0.5, color='black', figsize=(10,10))"
   ]
  },
  {
   "cell_type": "code",
   "execution_count": null,
   "id": "ee9d663a-5b15-4d4a-bc62-adc6c29fa467",
   "metadata": {},
   "outputs": [],
   "source": [
    "# plot here"
   ]
  },
  {
   "cell_type": "markdown",
   "id": "6548d6a2-2f09-4d9c-9568-0f1c75150ec5",
   "metadata": {},
   "source": [
    "We observe that data are not only in Shanghai. \n",
    "\n",
    "Write HERE why you think it is like this ? \n",
    "\n",
    "\n",
    "\n",
    "\n",
    "\n",
    "\n",
    "To have an idea of the spread of data, we can print or we can check the boundaries using the property (total_bounds)[https://geopandas.org/en/stable/docs/reference/api/geopandas.GeoSeries.total_bounds.html]"
   ]
  },
  {
   "cell_type": "code",
   "execution_count": null,
   "id": "e538bb15-0804-40ef-8285-65def1789bfc",
   "metadata": {},
   "outputs": [],
   "source": [
    "# use the property and print the result\n"
   ]
  },
  {
   "cell_type": "markdown",
   "id": "23297586-08b0-4208-b39c-8b740e9e2b41",
   "metadata": {},
   "source": [
    "In both cases, it seems there are data outside Shanghai.\n",
    "\n",
    "To limit it we have two options:\n",
    "- one is to use _cx_ to specify a bounding box\n",
    "- another one is to provide a shape for the area and filter points within\n",
    "\n",
    "### Lets start with bounding box\n",
    "\n",
    "to find the bounding box you can use GIS or search for it. we can use [bboxfinder.com](http://bboxfinder.com/)  for example"
   ]
  },
  {
   "cell_type": "code",
   "execution_count": null,
   "id": "9634ccff-9fc2-476d-ac4f-c435a500fb8d",
   "metadata": {},
   "outputs": [],
   "source": [
    "print(f'before {len(anjuke_gdf)}')\n",
    "west = #XXX\n",
    "east = #XXX\n",
    "north = #XXX\n",
    "south = #XXX\n",
    "\n",
    "xmin, ymin, xmax, ymax = (west,south,east,north)\n",
    "anjuke_filterbb_gdf = anjuke_gdf.cx[xmin:xmax, ymin:ymax]\n",
    "print(f'after {len(anjuke_filterbb_gdf)}')"
   ]
  },
  {
   "cell_type": "markdown",
   "id": "04b2d004-3d9d-49cc-ab44-45f222aa1e5a",
   "metadata": {},
   "source": [
    "we check if the latitude or longitude we have is in GCJ format of GPS format by looking at the huangpu river"
   ]
  },
  {
   "cell_type": "code",
   "execution_count": null,
   "id": "305cc087-89dd-4f25-9d57-d09533af660a",
   "metadata": {},
   "outputs": [],
   "source": [
    "ax = anjuke_filterbb_gdf.cx[121.43:121.53, 31.20:31.30].to_crs(3857).plot(markersize=1, color='b', figsize=(8,8))\n",
    "\n",
    "# use plot with ax here if you dont have cx\n",
    "\n",
    "\n",
    "# use cx here if you have it \n",
    "#cx.add_basemap(ax,source=cx.providers.CartoDB.Voyager)"
   ]
  },
  {
   "cell_type": "markdown",
   "id": "e2d5373d-3b5d-49b6-a4fe-daa9e5b790e7",
   "metadata": {},
   "source": [
    "## 2 – POI dataset: Gaode\n",
    "\n",
    "This dataset has been bought from Gaode for SHU Cendus institute in 2020. We choose the POI from 2017 to be consistant with the anjuke dataset also from 2017 "
   ]
  },
  {
   "cell_type": "code",
   "execution_count": null,
   "id": "eb4c028e-7da0-4292-9d20-ecb920b5c0f2",
   "metadata": {},
   "outputs": [],
   "source": [
    "poi_df = pd.read_csv('data/shanghaiPOI2017.csv',delimiter=';', decimal=',', low_memory=False)"
   ]
  },
  {
   "cell_type": "code",
   "execution_count": null,
   "id": "1d480018-a857-4cb0-ad2a-f6f10a9992f1",
   "metadata": {},
   "outputs": [],
   "source": [
    "poi_df.columns"
   ]
  },
  {
   "cell_type": "markdown",
   "id": "0006a467-eacb-4baa-978d-56a4a90f54c5",
   "metadata": {},
   "source": [
    "find the GBCode corresponding to subway stations. one column seems to have a text, we can search in the text."
   ]
  },
  {
   "cell_type": "code",
   "execution_count": null,
   "id": "15d2ddc7-d4ee-4e23-828a-d6c2ff7972ae",
   "metadata": {
    "scrolled": true
   },
   "outputs": [],
   "source": [
    "poi_df[poi_df.TYPECODE.str.contains('地铁')].loc[:,['TYPECODE','GBCODE']]"
   ]
  },
  {
   "cell_type": "markdown",
   "id": "c641745c-2a85-4bb8-9740-8a7b560aecd4",
   "metadata": {},
   "source": [
    "it looks like the subway stations have a GBCode of XXXX.\n",
    "\n",
    "The complete description of China BGCode used to categorize POI information can be found [GB/T 35648-2017 ](https://openstd.samr.gov.cn/bzgk/gb/newGbInfo?hcno=3330BB5A1FF81A61F8A7432B0BB4AE01)"
   ]
  },
  {
   "cell_type": "code",
   "execution_count": null,
   "id": "41d0cbc4-ae39-4a59-9028-89cd34a5dbc9",
   "metadata": {},
   "outputs": [],
   "source": [
    "# fill in the gbcode you found\n",
    "GBCODE = #XXX\n",
    "poi_subway_df = poi_df[poidf.GBCODE == GBCODE]"
   ]
  },
  {
   "cell_type": "markdown",
   "id": "d9ddb098-1801-4b7c-a222-496f2c31aaed",
   "metadata": {},
   "source": [
    "we proceed similarly with this dataframe and convert it to a geodataframe. Use the same technic as before"
   ]
  },
  {
   "cell_type": "code",
   "execution_count": null,
   "id": "e071c2c6-da83-4a01-a813-cede7bfc2fd4",
   "metadata": {},
   "outputs": [],
   "source": [
    "# write the function to create the geodataframe here usin gthe same method as before\n",
    "poi_subway_gdf = #gpd.GeoDataFrame(\n",
    "        "
   ]
  },
  {
   "cell_type": "code",
   "execution_count": null,
   "id": "6e5ca41f-1cb0-4690-9dfd-720f184df7d5",
   "metadata": {},
   "outputs": [],
   "source": [
    "poi_subway_gdf.plot(markersize=1, figsize=(10,10))"
   ]
  }
 ],
 "metadata": {
  "kernelspec": {
   "display_name": "Python 3 (ipykernel)",
   "language": "python",
   "name": "python3"
  },
  "language_info": {
   "codemirror_mode": {
    "name": "ipython",
    "version": 3
   },
   "file_extension": ".py",
   "mimetype": "text/x-python",
   "name": "python",
   "nbconvert_exporter": "python",
   "pygments_lexer": "ipython3",
   "version": "3.11.0"
  }
 },
 "nbformat": 4,
 "nbformat_minor": 5
}
